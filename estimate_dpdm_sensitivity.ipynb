{
 "cells": [
  {
   "cell_type": "code",
   "execution_count": 28,
   "id": "49a502b2-1ff8-4063-a81d-c3f64a68246f",
   "metadata": {},
   "outputs": [],
   "source": [
    "import numpy as np\n",
    "import matplotlib.pyplot as plt\n",
    "h_eV = 4.135667696e-15 #Planck's constant eV*s\n",
    "Hz_to_GeV = 4.136e-24\n",
    "\n",
    "freqs = np.array([5, 6, 6.5, 7, 7.5, 8])*1e9\n",
    "ff = np.array([0.05, 0.08, 0.11, 0.14,0.18, 0.22]) #form factor, assuming randomly polarized DP"
   ]
  },
  {
   "cell_type": "markdown",
   "id": "8cee5e71",
   "metadata": {},
   "source": [
    "# Relevant mass ranges"
   ]
  },
  {
   "cell_type": "code",
   "execution_count": 29,
   "id": "6aef637b",
   "metadata": {},
   "outputs": [
    {
     "name": "stdout",
     "output_type": "stream",
     "text": [
      "Dark photon masses: [20.67833848 24.81400618 26.88184002 28.94967387 31.01750772 33.08534157] ueV\n"
     ]
    }
   ],
   "source": [
    "def mass_ueV_to_freq_GHz(mass_ueV):\n",
    "    ''' turns axion mass to photon frequency '''\n",
    "    return mass_ueV/h_eV*1e-15\n",
    "\n",
    "def freq_to_mass(compton_f):\n",
    "    ''' turns photon frequency into axion mass in units of eV '''\n",
    "    return h_eV*compton_f\n",
    " \n",
    "ma = freq_to_mass(freqs)*1e-9 #mass of dark photons in GeV\n",
    "print('Dark photon masses: {} ueV'.format(ma*1e15))\n",
    "\n"
   ]
  },
  {
   "cell_type": "markdown",
   "id": "4b96543b",
   "metadata": {},
   "source": [
    "# Guess FFT bin width"
   ]
  },
  {
   "cell_type": "code",
   "execution_count": 30,
   "id": "19687c5e",
   "metadata": {},
   "outputs": [],
   "source": [
    "Q_dm = 1e6 #\n",
    "df_dm = np.mean(freqs)/Q_dm #bandwidth of dark matter halo at the center of the tuning range\n",
    "b = df_dm/6 #dm bandwidth should be covered by 6 FFT bins.\n",
    "b_GeV = b*Hz_to_GeV"
   ]
  },
  {
   "cell_type": "markdown",
   "id": "a229daee-1664-4d30-a5ae-41d4d34bbbd1",
   "metadata": {},
   "source": [
    "# DPDM sensitivity"
   ]
  },
  {
   "cell_type": "code",
   "execution_count": 39,
   "id": "fe641f06-9daa-49b3-bea3-e62c5f6755ab",
   "metadata": {},
   "outputs": [
    {
     "name": "stdout",
     "output_type": "stream",
     "text": [
      "[2.06783385e-05 2.48140062e-05 2.68818400e-05 2.89496739e-05\n",
      " 3.10175077e-05 3.30853416e-05]\n",
      "[4.27074491e-15 3.08214465e-15 2.52534441e-15 2.15705192e-15\n",
      " 1.83783599e-15 1.60959755e-15]\n"
     ]
    },
    {
     "data": {
      "image/png": "[encoded data removed]",
      "text/plain": [
       "<Figure size 432x288 with 1 Axes>"
      ]
     },
     "metadata": {
      "needs_background": "light"
     },
     "output_type": "display_data"
    }
   ],
   "source": [
    "beta = 1 #cavity coupling coefficient\n",
    "Lf = 1 # signal attenuation factor from data analysis\n",
    "Vp = 16.8282 #cm^3\n",
    "Veff = Vp*ff #cm^3 #cavity volume times form factor\n",
    "rho = 0.45 #GeV/cm^3 local dark matter density\n",
    "#dt = 1.31e29 # 1/GeV 1 day\n",
    "dt = 1.5e26 # 1/GeV 100s integration time\n",
    "Q = 1e6 # quality factor. For now, min(DM halo Q, cavity loaded Q)\n",
    "SNR = 3\n",
    "Tn = 4.3e-15 #GeV #50 mK\n",
    "\n",
    "chi_unpolarized = np.sqrt((SNR*(beta+1)*b_GeV*Tn)/(beta*ma*rho*Veff*Q*Lf))*(b_GeV*dt)**(-1/4)\n",
    "chi_polarized = chi_unpolarized / np.sqrt(0.0025)*np.sqrt(1/3)\n",
    "print(ma*1e9)\n",
    "print(chi_unpolarized)\n",
    "plt.plot(ma*1e15, chi_unpolarized)\n",
    "plt.xlabel(r'Dark Photon Mass ($\\mu$eV)')\n",
    "plt.ylabel(r'Kinetic Mixing Angle $\\chi$')\n",
    "plt.show()"
   ]
  },
  {
   "cell_type": "markdown",
   "id": "bd8633a2",
   "metadata": {},
   "source": [
    "# How long would it take to scan?"
   ]
  },
  {
   "cell_type": "code",
   "execution_count": 35,
   "id": "7c8135c1",
   "metadata": {},
   "outputs": [
    {
     "name": "stdout",
     "output_type": "stream",
     "text": [
      "520.65 days\n"
     ]
    }
   ],
   "source": [
    "Q_cav = 1e6 #not sure\n",
    "delta_f = np.mean(freqs)/Q_cav # cavity bandwidth\n",
    "Delta_f = 3e9 #3 GHz # total search bandwidth\n",
    "total_time_days = Delta_f/delta_f*100*1.157e-5 #100 s per step\n",
    "print('{} days to scan the entire frequency range'.format(total_time_days))"
   ]
  },
  {
   "cell_type": "code",
   "execution_count": null,
   "id": "3100d9ea",
   "metadata": {},
   "outputs": [],
   "source": []
  }
 ],
 "metadata": {
  "kernelspec": {
   "display_name": "Python 3 (ipykernel)",
   "language": "python",
   "name": "python3"
  },
  "language_info": {
   "codemirror_mode": {
    "name": "ipython",
    "version": 3
   },
   "file_extension": ".py",
   "mimetype": "text/x-python",
   "name": "python",
   "nbconvert_exporter": "python",
   "pygments_lexer": "ipython3",
   "version": "3.10.1"
  }
 },
 "nbformat": 4,
 "nbformat_minor": 5
}
